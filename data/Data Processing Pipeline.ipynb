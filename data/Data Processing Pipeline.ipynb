{
 "cells": [
  {
   "cell_type": "markdown",
   "metadata": {},
   "source": [
    "# Data Processing Pipeline\n",
    "## Processes Cosmic Data into form usable for analysis"
   ]
  },
  {
   "cell_type": "code",
   "execution_count": 103,
   "metadata": {
    "collapsed": true
   },
   "outputs": [],
   "source": [
    "import pandas as pd"
   ]
  },
  {
   "cell_type": "code",
   "execution_count": 115,
   "metadata": {
    "collapsed": true
   },
   "outputs": [],
   "source": [
    "# Reads file from cosmic and converts to simple (position,frequency) tuples\n",
    "# @fileName: name of file \n",
    "def getFreq(fileName):\n",
    "    df = pd.read_csv(fileName)\n",
    "    df = df.dropna(subset=[' Mutation genome position']) # Remove any rows w/o position data\n",
    "    df = df[' Mutation genome position'].apply(lambda x: x.split(':')[1].split('-')[0])\n",
    "    \n",
    "    # Create Dictionary\n",
    "    freqDic = dict((pos,0) for pos in df.unique()) \n",
    "    for pos in df.tolist():\n",
    "        freqDic[pos]+=1\n",
    "\n",
    "    # Output CSV\n",
    "    s = pd.Series(freqDic)\n",
    "    s.index.name = 'Position'\n",
    "    s.reset_index()\n",
    "    s.to_csv('cleanedData/' + fileName.split('_')[0] + '.csv')"
   ]
  },
  {
   "cell_type": "code",
   "execution_count": 116,
   "metadata": {
    "collapsed": false
   },
   "outputs": [],
   "source": [
    "# Obtain (position,frequency csv files)\n",
    "getFreq('ARID1A_data.csv')\n",
    "getFreq('ARID1B_data.csv')\n",
    "getFreq('ARID2_data.csv')"
   ]
  },
  {
   "cell_type": "code",
   "execution_count": null,
   "metadata": {
    "collapsed": true
   },
   "outputs": [],
   "source": []
  }
 ],
 "metadata": {
  "kernelspec": {
   "display_name": "Python 2",
   "language": "python",
   "name": "python2"
  },
  "language_info": {
   "codemirror_mode": {
    "name": "ipython",
    "version": 2
   },
   "file_extension": ".py",
   "mimetype": "text/x-python",
   "name": "python",
   "nbconvert_exporter": "python",
   "pygments_lexer": "ipython2",
   "version": "2.7.10"
  }
 },
 "nbformat": 4,
 "nbformat_minor": 0
}
