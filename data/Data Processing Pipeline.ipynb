{
 "cells": [
  {
   "cell_type": "markdown",
   "metadata": {},
   "source": [
    "# Data Processing Pipeline\n",
    "## Processes Cosmic Data into form usable for analysis"
   ]
  },
  {
   "cell_type": "code",
   "execution_count": 1,
   "metadata": {
    "collapsed": true
   },
   "outputs": [],
   "source": [
    "import pandas as pd"
   ]
  },
  {
   "cell_type": "code",
   "execution_count": 34,
   "metadata": {
    "collapsed": false
   },
   "outputs": [],
   "source": [
    "# Reads file from cosmic and converts to simple (position,frequency) tuples\n",
    "# @fileName: name of file, @fill: add (pos,0) entries for all missing data\n",
    "def getFreq(fileName, fill):\n",
    "    df = pd.read_csv(fileName)\n",
    "    df = df.dropna(subset=[' Mutation genome position']) # Remove any rows w/o position data\n",
    "    df = df[' Mutation genome position'].apply(lambda x: x.split(':')[1].split('-')[0])\n",
    "    \n",
    "    # Create Dictionary\n",
    "    freqDic = dict((pos,0) for pos in df.unique()) \n",
    "    for pos in df.tolist():\n",
    "        freqDic[pos]+=1\n",
    "        \n",
    "    if fill:\n",
    "        # Fill in data with 0's\n",
    "        sortedPos = sorted(freqDic.keys())\n",
    "        lastPos = int(sortedPos[0])\n",
    "        for currPos in sortedPos:\n",
    "            currPos = int(currPos)\n",
    "\n",
    "            # Add (key,0) from (lastPos + 1) to currPos\n",
    "            if(currPos - lastPos > 1):\n",
    "                for i in range(lastPos+1,currPos):\n",
    "                    freqDic[str(i)] = 0\n",
    "\n",
    "            lastPos = currPos\n",
    "    \n",
    "    # Output CSV\n",
    "    s = pd.Series(freqDic)\n",
    "    s.index.name = 'Position'\n",
    "    s.reset_index()\n",
    "    if fill:\n",
    "        s.to_csv('cleanedData/' + fileName.split('_')[0] + '_filled.csv')\n",
    "    else:\n",
    "        s.to_csv('cleanedData/' + fileName.split('_')[0] + '.csv')"
   ]
  },
  {
   "cell_type": "code",
   "execution_count": 36,
   "metadata": {
    "collapsed": false
   },
   "outputs": [],
   "source": [
    "# Obtain (position,frequency csv files)\n",
    "getFreq('ARID1A_data.csv', False)\n",
    "getFreq('ARID1B_data.csv', False)\n",
    "getFreq('ARID2_data.csv', False)\n",
    "\n",
    "getFreq('ARID1A_data.csv', True)\n",
    "getFreq('ARID1B_data.csv', True)\n",
    "getFreq('ARID2_data.csv', True)"
   ]
  },
  {
   "cell_type": "code",
   "execution_count": null,
   "metadata": {
    "collapsed": true
   },
   "outputs": [],
   "source": []
  }
 ],
 "metadata": {
  "kernelspec": {
   "display_name": "Python 2",
   "language": "python",
   "name": "python2"
  },
  "language_info": {
   "codemirror_mode": {
    "name": "ipython",
    "version": 2
   },
   "file_extension": ".py",
   "mimetype": "text/x-python",
   "name": "python",
   "nbconvert_exporter": "python",
   "pygments_lexer": "ipython2",
   "version": "2.7.10"
  }
 },
 "nbformat": 4,
 "nbformat_minor": 0
}
